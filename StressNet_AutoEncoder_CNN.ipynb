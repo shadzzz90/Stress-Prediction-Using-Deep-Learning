{
 "cells": [
  {
   "cell_type": "code",
   "execution_count": 1,
   "metadata": {
    "id": "P7105CK3QtiJ"
   },
   "outputs": [
    {
     "name": "stdout",
     "output_type": "stream",
     "text": [
      "Found GPU at: /device:GPU:0\n"
     ]
    }
   ],
   "source": [
    "import os\n",
    "os.environ['TF_CPP_MIN_LOG_LEVEL'] = '2'\n",
    "# os.chdir('/content/drive/MyDrive/Data/')\n",
    "from sklearn.preprocessing import StandardScaler\n",
    "import tensorflow as tf\n",
    "device_name = tf.test.gpu_device_name()\n",
    "if device_name != '/device:GPU:0':\n",
    "  raise SystemError('GPU device not found')\n",
    "print('Found GPU at: {}'.format(device_name))\n",
    "from tensorflow import keras\n",
    "import numpy as np\n",
    "import pandas as pd\n",
    "import numpy as np\n",
    "import pickle\n",
    "import pydot\n",
    "import matplotlib.pyplot as plt"
   ]
  },
  {
   "cell_type": "code",
   "execution_count": 2,
   "metadata": {},
   "outputs": [],
   "source": [
    "trainInput1 = np.load('trainInput1.npy')\n",
    "trainInput2 = np.load('trainInput2.npy')\n",
    "trainOutput = np.load('trainOutput.npy')\n",
    "\n",
    "testInput1 = np.load('testInput1.npy')\n",
    "testInput2 = np.load('testInput2.npy')\n",
    "testOutput = np.load('testOutput.npy')\n",
    "\n",
    "valInput1 = np.load('valInput1.npy')\n",
    "valInput2 = np.load('valInput2.npy')\n",
    "valOutput = np.load('valOutput.npy')"
   ]
  },
  {
   "cell_type": "code",
   "execution_count": 3,
   "metadata": {
    "colab": {
     "base_uri": "https://localhost:8080/"
    },
    "id": "dJH8u1VIjdAV",
    "outputId": "96e50255-bd50-4b6e-a9a7-f23942fbed37"
   },
   "outputs": [
    {
     "data": {
      "text/plain": [
       "(140, 250, 250)"
      ]
     },
     "execution_count": 3,
     "metadata": {},
     "output_type": "execute_result"
    }
   ],
   "source": [
    "trainInput2.shape"
   ]
  },
  {
   "cell_type": "code",
   "execution_count": 4,
   "metadata": {
    "colab": {
     "base_uri": "https://localhost:8080/"
    },
    "id": "ihTBQp2AgIMp",
    "outputId": "74eb2c21-290d-40a1-d935-6796bd73038d"
   },
   "outputs": [
    {
     "name": "stdout",
     "output_type": "stream",
     "text": [
      "Model: \"AutoEncoder\"\n",
      "__________________________________________________________________________________________________\n",
      "Layer (type)                    Output Shape         Param #     Connected to                     \n",
      "==================================================================================================\n",
      "input_1 (InputLayer)            [(5, 250, 250, 1)]   0                                            \n",
      "__________________________________________________________________________________________________\n",
      "input_2 (InputLayer)            [(5, 250, 250, 1)]   0                                            \n",
      "__________________________________________________________________________________________________\n",
      "concatenate (Concatenate)       (5, 250, 250, 2)     0           input_1[0][0]                    \n",
      "                                                                 input_2[0][0]                    \n",
      "__________________________________________________________________________________________________\n",
      "conv2d (Conv2D)                 (5, 240, 240, 120)   29160       concatenate[0][0]                \n",
      "__________________________________________________________________________________________________\n",
      "max_pooling2d (MaxPooling2D)    (5, 120, 120, 120)   0           conv2d[0][0]                     \n",
      "__________________________________________________________________________________________________\n",
      "conv2d_1 (Conv2D)               (5, 114, 114, 60)    352860      max_pooling2d[0][0]              \n",
      "__________________________________________________________________________________________________\n",
      "max_pooling2d_1 (MaxPooling2D)  (5, 57, 57, 60)      0           conv2d_1[0][0]                   \n",
      "__________________________________________________________________________________________________\n",
      "conv2d_2 (Conv2D)               (5, 28, 28, 30)      16230       max_pooling2d_1[0][0]            \n",
      "__________________________________________________________________________________________________\n",
      "max_pooling2d_2 (MaxPooling2D)  (5, 14, 14, 30)      0           conv2d_2[0][0]                   \n",
      "__________________________________________________________________________________________________\n",
      "flatten (Flatten)               (5, 5880)            0           max_pooling2d_2[0][0]            \n",
      "__________________________________________________________________________________________________\n",
      "reshape (Reshape)               (5, 14, 14, 30)      0           flatten[0][0]                    \n",
      "__________________________________________________________________________________________________\n",
      "up_sampling2d (UpSampling2D)    (5, 28, 28, 30)      0           reshape[0][0]                    \n",
      "__________________________________________________________________________________________________\n",
      "conv2d_transpose (Conv2DTranspo (5, 57, 57, 30)      8130        up_sampling2d[0][0]              \n",
      "__________________________________________________________________________________________________\n",
      "up_sampling2d_1 (UpSampling2D)  (5, 114, 114, 30)    0           conv2d_transpose[0][0]           \n",
      "__________________________________________________________________________________________________\n",
      "conv2d_transpose_1 (Conv2DTrans (5, 120, 120, 60)    88260       up_sampling2d_1[0][0]            \n",
      "__________________________________________________________________________________________________\n",
      "up_sampling2d_2 (UpSampling2D)  (5, 240, 240, 60)    0           conv2d_transpose_1[0][0]         \n",
      "__________________________________________________________________________________________________\n",
      "conv2d_transpose_2 (Conv2DTrans (5, 250, 250, 120)   871320      up_sampling2d_2[0][0]            \n",
      "__________________________________________________________________________________________________\n",
      "conv2d_transpose_3 (Conv2DTrans (5, 250, 250, 1)     121         conv2d_transpose_2[0][0]         \n",
      "==================================================================================================\n",
      "Total params: 1,366,081\n",
      "Trainable params: 1,366,081\n",
      "Non-trainable params: 0\n",
      "__________________________________________________________________________________________________\n",
      "('Failed to import pydot. You must `pip install pydot` and install graphviz (https://graphviz.gitlab.io/download/), ', 'for `pydotprint` to work.')\n"
     ]
    }
   ],
   "source": [
    "def modelCNN():\n",
    "    \n",
    "    input1 = keras.Input(shape=(trainInput1.shape[1], trainInput1.shape[2], 1), batch_size=5)\n",
    "    input2 = keras.Input(shape=(trainInput1.shape[1], trainInput1.shape[2], 1), batch_size=5)\n",
    "\n",
    "    merged_input = keras.layers.concatenate([input1, input2])\n",
    "\n",
    "    encoded = keras.layers.Conv2D(filters=120, kernel_size=(11, 11), strides=1, activation='relu')(merged_input)\n",
    "    encoded = keras.layers.MaxPool2D(pool_size=(2, 2), strides=2)(encoded)\n",
    "\n",
    "    encoded = keras.layers.Conv2D(filters=60, kernel_size=(7, 7), strides=1, activation='relu')(encoded)\n",
    "    encoded = keras.layers.MaxPool2D(pool_size=(2, 2), strides=2)(encoded)\n",
    "\n",
    "    encoded = keras.layers.Conv2D(filters=30, kernel_size=(3, 3), strides=2, activation='relu')(encoded)\n",
    "    encoded = keras.layers.MaxPool2D(pool_size=(2, 2), strides=2)(encoded)\n",
    "\n",
    "    # flatten = keras.layers.Reshape(target_shape=(5880, 1))(encoded)\n",
    "    # merged = keras.layers.Concatenate(axis=1)([flatten, input2])\n",
    "\n",
    "    dense = keras.layers.Flatten()(encoded)\n",
    "\n",
    "    # dense1 = keras.layers.Dense(5880)(dense)\n",
    "\n",
    "    reshape = keras.layers.Reshape(target_shape=(14, 14, 30))(dense)\n",
    "\n",
    "    decoded = keras.layers.UpSampling2D(size=(2, 2))(reshape)\n",
    "    decoded = keras.layers.Conv2DTranspose(filters=30, kernel_size=(3, 3), strides=2, activation='relu')(decoded)\n",
    "\n",
    "    decoded = keras.layers.UpSampling2D(size=(2, 2))(decoded)\n",
    "    decoded = keras.layers.Conv2DTranspose(filters=60, kernel_size=(7, 7), strides=1, activation='relu')(decoded)\n",
    "\n",
    "    decoded = keras.layers.UpSampling2D(size=(2, 2))(decoded)\n",
    "    decoded = keras.layers.Conv2DTranspose(filters=120, kernel_size=(11, 11), strides=1, activation='relu')(decoded)\n",
    "\n",
    "    output = keras.layers.Conv2DTranspose(filters=1, kernel_size=(1, 1), strides=1)(decoded)\n",
    "\n",
    "    model = keras.Model(inputs=[input1, input2], outputs=output, name = 'AutoEncoder')\n",
    "    model.summary()\n",
    "    tf.keras.utils.plot_model(model, 'Stress_AutoEncoder_CNN.png', show_shapes=True)\n",
    "    opt = tf.keras.optimizers.Adam(learning_rate=0.001)\n",
    "\n",
    "    model.compile(optimizer=opt, loss=\"mse\", metrics=[tf.keras.metrics.RootMeanSquaredError()])\n",
    "\n",
    "    return model\n",
    "\n",
    "\n",
    "model = modelCNN()"
   ]
  },
  {
   "cell_type": "code",
   "execution_count": null,
   "metadata": {
    "colab": {
     "base_uri": "https://localhost:8080/"
    },
    "id": "hBggmxbtSAYu",
    "outputId": "4018c995-ba69-46da-801b-e2efd6a03acd"
   },
   "outputs": [
    {
     "name": "stdout",
     "output_type": "stream",
     "text": [
      "Epoch 1/1000\n",
      " 2/28 [=>............................] - ETA: 2s - loss: 42919.0391 - root_mean_squared_error: 207.1691WARNING:tensorflow:Callbacks method `on_train_batch_end` is slow compared to the batch time (batch time: 0.0091s vs `on_train_batch_end` time: 0.1979s). Check your callbacks.\n",
      "28/28 [==============================] - ETA: 0s - loss: 37610.4219 - root_mean_squared_error: 193.9341WARNING:tensorflow:Callbacks method `on_test_batch_end` is slow compared to the batch time (batch time: 0.0154s vs `on_test_batch_end` time: 0.0690s). Check your callbacks.\n",
      "28/28 [==============================] - 6s 229ms/step - loss: 37610.4219 - root_mean_squared_error: 193.9341 - val_loss: 38819.8125 - val_root_mean_squared_error: 197.0274\n",
      "Epoch 2/1000\n",
      "28/28 [==============================] - 6s 230ms/step - loss: 29421.1758 - root_mean_squared_error: 171.5260 - val_loss: 35678.1797 - val_root_mean_squared_error: 188.8867\n",
      "Epoch 3/1000\n",
      "28/28 [==============================] - 6s 231ms/step - loss: 26416.9902 - root_mean_squared_error: 162.5330 - val_loss: 28321.3691 - val_root_mean_squared_error: 168.2895\n",
      "Epoch 4/1000\n",
      "28/28 [==============================] - 6s 231ms/step - loss: 25117.8164 - root_mean_squared_error: 158.4860 - val_loss: 28466.3691 - val_root_mean_squared_error: 168.7198\n",
      "Epoch 5/1000\n",
      "28/28 [==============================] - 7s 232ms/step - loss: 26937.1504 - root_mean_squared_error: 164.1254 - val_loss: 28779.4414 - val_root_mean_squared_error: 169.6450\n",
      "Epoch 6/1000\n",
      "28/28 [==============================] - 7s 233ms/step - loss: 25918.1777 - root_mean_squared_error: 160.9912 - val_loss: 26898.4258 - val_root_mean_squared_error: 164.0074\n",
      "Epoch 7/1000\n",
      "28/28 [==============================] - 7s 233ms/step - loss: 24907.4688 - root_mean_squared_error: 157.8210 - val_loss: 26675.9277 - val_root_mean_squared_error: 163.3277\n",
      "Epoch 8/1000\n",
      "28/28 [==============================] - 7s 235ms/step - loss: 27191.8789 - root_mean_squared_error: 164.8996 - val_loss: 27649.3848 - val_root_mean_squared_error: 166.2810\n",
      "Epoch 9/1000\n",
      "28/28 [==============================] - 7s 236ms/step - loss: 23404.0488 - root_mean_squared_error: 152.9838 - val_loss: 25585.3809 - val_root_mean_squared_error: 159.9543\n",
      "Epoch 10/1000\n",
      "28/28 [==============================] - 7s 237ms/step - loss: 23652.9883 - root_mean_squared_error: 153.7953 - val_loss: 25002.0977 - val_root_mean_squared_error: 158.1205\n",
      "Epoch 11/1000\n",
      "28/28 [==============================] - 7s 237ms/step - loss: 22115.3125 - root_mean_squared_error: 148.7122 - val_loss: 25937.9180 - val_root_mean_squared_error: 161.0525\n",
      "Epoch 12/1000\n",
      "28/28 [==============================] - 7s 237ms/step - loss: 21968.3242 - root_mean_squared_error: 148.2171 - val_loss: 26032.7617 - val_root_mean_squared_error: 161.3467\n",
      "Epoch 13/1000\n",
      "28/28 [==============================] - 7s 236ms/step - loss: 23608.2754 - root_mean_squared_error: 153.6498 - val_loss: 26887.9570 - val_root_mean_squared_error: 163.9755\n",
      "Epoch 14/1000\n",
      "28/28 [==============================] - 7s 237ms/step - loss: 21695.4785 - root_mean_squared_error: 147.2938 - val_loss: 24762.6719 - val_root_mean_squared_error: 157.3616\n",
      "Epoch 15/1000\n",
      "28/28 [==============================] - 7s 237ms/step - loss: 22314.9434 - root_mean_squared_error: 149.3819 - val_loss: 29990.5625 - val_root_mean_squared_error: 173.1778\n",
      "Epoch 16/1000\n",
      "28/28 [==============================] - 7s 236ms/step - loss: 21678.4141 - root_mean_squared_error: 147.2359 - val_loss: 25096.2910 - val_root_mean_squared_error: 158.4181\n",
      "Epoch 17/1000\n",
      "28/28 [==============================] - 7s 236ms/step - loss: 21656.4707 - root_mean_squared_error: 147.1614 - val_loss: 24768.2461 - val_root_mean_squared_error: 157.3793\n",
      "Epoch 18/1000\n",
      "28/28 [==============================] - 7s 237ms/step - loss: 24644.1641 - root_mean_squared_error: 156.9846 - val_loss: 36521.0000 - val_root_mean_squared_error: 191.1047\n",
      "Epoch 19/1000\n",
      "28/28 [==============================] - 7s 238ms/step - loss: 26520.2793 - root_mean_squared_error: 162.8505 - val_loss: 26166.6309 - val_root_mean_squared_error: 161.7610\n",
      "Epoch 20/1000\n",
      "28/28 [==============================] - 7s 238ms/step - loss: 22556.7910 - root_mean_squared_error: 150.1892 - val_loss: 24542.1445 - val_root_mean_squared_error: 156.6593\n",
      "Epoch 21/1000\n",
      "28/28 [==============================] - 7s 238ms/step - loss: 22684.3652 - root_mean_squared_error: 150.6133 - val_loss: 25767.9863 - val_root_mean_squared_error: 160.5241\n",
      "Epoch 22/1000\n",
      "28/28 [==============================] - 7s 238ms/step - loss: 21207.2148 - root_mean_squared_error: 145.6270 - val_loss: 25635.3027 - val_root_mean_squared_error: 160.1103\n",
      "Epoch 23/1000\n",
      "28/28 [==============================] - 7s 238ms/step - loss: 20794.7715 - root_mean_squared_error: 144.2039 - val_loss: 27073.9590 - val_root_mean_squared_error: 164.5417\n",
      "Epoch 24/1000\n",
      "28/28 [==============================] - 7s 237ms/step - loss: 22320.8438 - root_mean_squared_error: 149.4016 - val_loss: 25102.1855 - val_root_mean_squared_error: 158.4367\n",
      "Epoch 25/1000\n",
      "28/28 [==============================] - 7s 238ms/step - loss: 23425.9785 - root_mean_squared_error: 153.0555 - val_loss: 29228.3965 - val_root_mean_squared_error: 170.9632\n",
      "Epoch 26/1000\n",
      "28/28 [==============================] - 7s 237ms/step - loss: 22109.7031 - root_mean_squared_error: 148.6933 - val_loss: 25272.8574 - val_root_mean_squared_error: 158.9744\n",
      "Epoch 27/1000\n",
      "28/28 [==============================] - 7s 237ms/step - loss: 21166.7031 - root_mean_squared_error: 145.4878 - val_loss: 24825.1758 - val_root_mean_squared_error: 157.5601\n",
      "Epoch 28/1000\n",
      "28/28 [==============================] - 7s 238ms/step - loss: 21347.5430 - root_mean_squared_error: 146.1080 - val_loss: 24919.7715 - val_root_mean_squared_error: 157.8600\n",
      "Epoch 29/1000\n",
      "28/28 [==============================] - 7s 238ms/step - loss: 21005.1270 - root_mean_squared_error: 144.9314 - val_loss: 25477.3555 - val_root_mean_squared_error: 159.6163\n",
      "Epoch 30/1000\n",
      "28/28 [==============================] - 7s 238ms/step - loss: 23474.2070 - root_mean_squared_error: 153.2130 - val_loss: 25499.6641 - val_root_mean_squared_error: 159.6861\n",
      "Epoch 31/1000\n",
      "28/28 [==============================] - 7s 238ms/step - loss: 20223.7852 - root_mean_squared_error: 142.2104 - val_loss: 25029.2305 - val_root_mean_squared_error: 158.2063\n",
      "Epoch 32/1000\n",
      "28/28 [==============================] - 7s 238ms/step - loss: 20181.4980 - root_mean_squared_error: 142.0616 - val_loss: 25650.4883 - val_root_mean_squared_error: 160.1577\n",
      "Epoch 33/1000\n",
      "28/28 [==============================] - 7s 238ms/step - loss: 22123.3086 - root_mean_squared_error: 148.7391 - val_loss: 27335.5430 - val_root_mean_squared_error: 165.3346\n",
      "Epoch 34/1000\n",
      "28/28 [==============================] - 7s 238ms/step - loss: 21487.8848 - root_mean_squared_error: 146.5875 - val_loss: 24994.3281 - val_root_mean_squared_error: 158.0959\n",
      "Epoch 35/1000\n",
      "28/28 [==============================] - 7s 238ms/step - loss: 20128.4844 - root_mean_squared_error: 141.8749 - val_loss: 25781.0703 - val_root_mean_squared_error: 160.5648\n",
      "Epoch 36/1000\n",
      "28/28 [==============================] - 7s 238ms/step - loss: 21515.2383 - root_mean_squared_error: 146.6807 - val_loss: 24811.1348 - val_root_mean_squared_error: 157.5155\n",
      "Epoch 37/1000\n",
      "28/28 [==============================] - 7s 239ms/step - loss: 20222.6250 - root_mean_squared_error: 142.2063 - val_loss: 25303.6777 - val_root_mean_squared_error: 159.0713\n",
      "Epoch 38/1000\n",
      "28/28 [==============================] - 7s 238ms/step - loss: 20157.0781 - root_mean_squared_error: 141.9756 - val_loss: 25170.6953 - val_root_mean_squared_error: 158.6528\n",
      "Epoch 39/1000\n",
      "28/28 [==============================] - 7s 238ms/step - loss: 20567.6602 - root_mean_squared_error: 143.4143 - val_loss: 28447.2539 - val_root_mean_squared_error: 168.6631\n",
      "Epoch 40/1000\n",
      "28/28 [==============================] - 7s 238ms/step - loss: 21174.7930 - root_mean_squared_error: 145.5156 - val_loss: 24736.3086 - val_root_mean_squared_error: 157.2778\n",
      "Epoch 41/1000\n",
      "28/28 [==============================] - 7s 238ms/step - loss: 20992.5781 - root_mean_squared_error: 144.8882 - val_loss: 25417.7539 - val_root_mean_squared_error: 159.4295\n"
     ]
    },
    {
     "name": "stdout",
     "output_type": "stream",
     "text": [
      "Epoch 42/1000\n",
      "28/28 [==============================] - 7s 238ms/step - loss: 21073.5469 - root_mean_squared_error: 145.1673 - val_loss: 27580.5371 - val_root_mean_squared_error: 166.0739\n",
      "Epoch 43/1000\n",
      "28/28 [==============================] - 7s 238ms/step - loss: 20521.7949 - root_mean_squared_error: 143.2543 - val_loss: 24515.8223 - val_root_mean_squared_error: 156.5753\n",
      "Epoch 44/1000\n",
      "28/28 [==============================] - 7s 239ms/step - loss: 20296.3770 - root_mean_squared_error: 142.4653 - val_loss: 24272.9531 - val_root_mean_squared_error: 155.7978\n",
      "Epoch 45/1000\n",
      "28/28 [==============================] - 7s 238ms/step - loss: 20167.3496 - root_mean_squared_error: 142.0118 - val_loss: 25095.9629 - val_root_mean_squared_error: 158.4171\n",
      "Epoch 46/1000\n",
      "28/28 [==============================] - 7s 239ms/step - loss: 21028.8340 - root_mean_squared_error: 145.0132 - val_loss: 25009.7305 - val_root_mean_squared_error: 158.1447\n",
      "Epoch 47/1000\n",
      "28/28 [==============================] - 7s 239ms/step - loss: 19888.5781 - root_mean_squared_error: 141.0269 - val_loss: 24319.9297 - val_root_mean_squared_error: 155.9485\n",
      "Epoch 48/1000\n",
      "28/28 [==============================] - 7s 239ms/step - loss: 19759.3789 - root_mean_squared_error: 140.5681 - val_loss: 24462.1504 - val_root_mean_squared_error: 156.4038\n",
      "Epoch 49/1000\n",
      "28/28 [==============================] - 7s 239ms/step - loss: 20671.8730 - root_mean_squared_error: 143.7772 - val_loss: 25306.0742 - val_root_mean_squared_error: 159.0788\n",
      "Epoch 50/1000\n",
      "28/28 [==============================] - 7s 239ms/step - loss: 20693.3906 - root_mean_squared_error: 143.8520 - val_loss: 26432.5625 - val_root_mean_squared_error: 162.5809\n",
      "Epoch 51/1000\n",
      "28/28 [==============================] - 7s 239ms/step - loss: 21379.7715 - root_mean_squared_error: 146.2182 - val_loss: 27086.6504 - val_root_mean_squared_error: 164.5802\n",
      "Epoch 52/1000\n",
      "28/28 [==============================] - 7s 239ms/step - loss: 20368.7812 - root_mean_squared_error: 142.7192 - val_loss: 24359.2871 - val_root_mean_squared_error: 156.0746\n",
      "Epoch 53/1000\n",
      "28/28 [==============================] - 7s 239ms/step - loss: 20063.5312 - root_mean_squared_error: 141.6458 - val_loss: 24670.2070 - val_root_mean_squared_error: 157.0675\n",
      "Epoch 54/1000\n",
      "28/28 [==============================] - 7s 239ms/step - loss: 19472.1348 - root_mean_squared_error: 139.5426 - val_loss: 24827.9336 - val_root_mean_squared_error: 157.5688\n",
      "Epoch 55/1000\n",
      "28/28 [==============================] - 7s 239ms/step - loss: 19897.1289 - root_mean_squared_error: 141.0572 - val_loss: 25356.8262 - val_root_mean_squared_error: 159.2383\n",
      "Epoch 56/1000\n",
      "28/28 [==============================] - 7s 239ms/step - loss: 21301.1309 - root_mean_squared_error: 145.9491 - val_loss: 27377.5410 - val_root_mean_squared_error: 165.4616\n",
      "Epoch 57/1000\n",
      "28/28 [==============================] - 7s 240ms/step - loss: 19936.0605 - root_mean_squared_error: 141.1951 - val_loss: 25293.8730 - val_root_mean_squared_error: 159.0405\n",
      "Epoch 58/1000\n",
      "28/28 [==============================] - 7s 239ms/step - loss: 19866.2305 - root_mean_squared_error: 140.9476 - val_loss: 24462.3633 - val_root_mean_squared_error: 156.4045\n",
      "Epoch 59/1000\n",
      "28/28 [==============================] - 7s 239ms/step - loss: 19121.2383 - root_mean_squared_error: 138.2796 - val_loss: 25079.1836 - val_root_mean_squared_error: 158.3641\n",
      "Epoch 60/1000\n",
      "28/28 [==============================] - 7s 240ms/step - loss: 19493.7598 - root_mean_squared_error: 139.6200 - val_loss: 24436.0039 - val_root_mean_squared_error: 156.3202\n",
      "Epoch 61/1000\n",
      "28/28 [==============================] - 7s 240ms/step - loss: 20265.1699 - root_mean_squared_error: 142.3558 - val_loss: 25686.3379 - val_root_mean_squared_error: 160.2696\n",
      "Epoch 62/1000\n",
      "28/28 [==============================] - 7s 240ms/step - loss: 20041.6777 - root_mean_squared_error: 141.5686 - val_loss: 25870.9062 - val_root_mean_squared_error: 160.8443\n",
      "Epoch 63/1000\n",
      "28/28 [==============================] - 7s 240ms/step - loss: 20282.8828 - root_mean_squared_error: 142.4180 - val_loss: 24021.4883 - val_root_mean_squared_error: 154.9887\n",
      "Epoch 64/1000\n",
      "28/28 [==============================] - 7s 239ms/step - loss: 19037.8223 - root_mean_squared_error: 137.9776 - val_loss: 24460.6348 - val_root_mean_squared_error: 156.3990\n",
      "Epoch 65/1000\n",
      "28/28 [==============================] - 7s 240ms/step - loss: 19810.2910 - root_mean_squared_error: 140.7490 - val_loss: 26016.3633 - val_root_mean_squared_error: 161.2959\n",
      "Epoch 66/1000\n",
      "28/28 [==============================] - 7s 240ms/step - loss: 20322.9453 - root_mean_squared_error: 142.5586 - val_loss: 29432.8242 - val_root_mean_squared_error: 171.5600\n",
      "Epoch 67/1000\n",
      "28/28 [==============================] - 7s 240ms/step - loss: 19853.8691 - root_mean_squared_error: 140.9038 - val_loss: 24604.3008 - val_root_mean_squared_error: 156.8576\n",
      "Epoch 68/1000\n",
      "28/28 [==============================] - 7s 240ms/step - loss: 19329.0020 - root_mean_squared_error: 139.0288 - val_loss: 24736.0664 - val_root_mean_squared_error: 157.2770\n",
      "Epoch 69/1000\n",
      "28/28 [==============================] - 7s 239ms/step - loss: 19093.0840 - root_mean_squared_error: 138.1777 - val_loss: 23916.1504 - val_root_mean_squared_error: 154.6485\n",
      "Epoch 70/1000\n",
      "28/28 [==============================] - 7s 240ms/step - loss: 18870.0566 - root_mean_squared_error: 137.3683 - val_loss: 24483.8086 - val_root_mean_squared_error: 156.4730\n",
      "Epoch 71/1000\n",
      "28/28 [==============================] - 7s 240ms/step - loss: 19250.9746 - root_mean_squared_error: 138.7479 - val_loss: 24166.7070 - val_root_mean_squared_error: 155.4565\n",
      "Epoch 72/1000\n",
      "28/28 [==============================] - 7s 240ms/step - loss: 19169.1152 - root_mean_squared_error: 138.4526 - val_loss: 24540.0547 - val_root_mean_squared_error: 156.6526\n",
      "Epoch 73/1000\n",
      "28/28 [==============================] - 7s 241ms/step - loss: 20135.1562 - root_mean_squared_error: 141.8984 - val_loss: 24002.9922 - val_root_mean_squared_error: 154.9290\n",
      "Epoch 74/1000\n",
      "28/28 [==============================] - 7s 241ms/step - loss: 19419.8477 - root_mean_squared_error: 139.3551 - val_loss: 23761.6758 - val_root_mean_squared_error: 154.1482\n",
      "Epoch 75/1000\n",
      "28/28 [==============================] - 7s 240ms/step - loss: 19089.5684 - root_mean_squared_error: 138.1650 - val_loss: 23950.9453 - val_root_mean_squared_error: 154.7609\n",
      "Epoch 76/1000\n",
      "28/28 [==============================] - 7s 241ms/step - loss: 19411.3262 - root_mean_squared_error: 139.3245 - val_loss: 25785.4023 - val_root_mean_squared_error: 160.5783\n",
      "Epoch 77/1000\n",
      "28/28 [==============================] - 7s 240ms/step - loss: 19261.7715 - root_mean_squared_error: 138.7868 - val_loss: 23974.3027 - val_root_mean_squared_error: 154.8364\n",
      "Epoch 78/1000\n",
      "28/28 [==============================] - 7s 240ms/step - loss: 18455.9961 - root_mean_squared_error: 135.8528 - val_loss: 25352.3945 - val_root_mean_squared_error: 159.2243\n",
      "Epoch 79/1000\n",
      "28/28 [==============================] - 7s 241ms/step - loss: 19151.9492 - root_mean_squared_error: 138.3906 - val_loss: 24421.3887 - val_root_mean_squared_error: 156.2734\n",
      "Epoch 80/1000\n",
      "28/28 [==============================] - 7s 241ms/step - loss: 21030.8574 - root_mean_squared_error: 145.0202 - val_loss: 24766.9961 - val_root_mean_squared_error: 157.3753\n",
      "Epoch 81/1000\n",
      "28/28 [==============================] - 7s 241ms/step - loss: 19027.9727 - root_mean_squared_error: 137.9419 - val_loss: 26850.7812 - val_root_mean_squared_error: 163.8621\n",
      "Epoch 82/1000\n",
      "28/28 [==============================] - 7s 241ms/step - loss: 19246.7285 - root_mean_squared_error: 138.7326 - val_loss: 24765.8789 - val_root_mean_squared_error: 157.3718\n",
      "Epoch 83/1000\n",
      "28/28 [==============================] - 7s 240ms/step - loss: 21025.0605 - root_mean_squared_error: 145.0002 - val_loss: 24732.2070 - val_root_mean_squared_error: 157.2648\n",
      "Epoch 84/1000\n",
      "28/28 [==============================] - 7s 240ms/step - loss: 19017.2285 - root_mean_squared_error: 137.9030 - val_loss: 24588.1113 - val_root_mean_squared_error: 156.8060\n",
      "Epoch 85/1000\n",
      "28/28 [==============================] - 7s 241ms/step - loss: 18427.4180 - root_mean_squared_error: 135.7476 - val_loss: 24729.9512 - val_root_mean_squared_error: 157.2576\n"
     ]
    },
    {
     "name": "stdout",
     "output_type": "stream",
     "text": [
      "Epoch 86/1000\n",
      "28/28 [==============================] - 7s 241ms/step - loss: 18749.2305 - root_mean_squared_error: 136.9278 - val_loss: 24792.5547 - val_root_mean_squared_error: 157.4565\n",
      "Epoch 87/1000\n",
      "28/28 [==============================] - 7s 241ms/step - loss: 18933.0410 - root_mean_squared_error: 137.5974 - val_loss: 23891.7695 - val_root_mean_squared_error: 154.5696\n",
      "Epoch 88/1000\n",
      "28/28 [==============================] - 7s 241ms/step - loss: 19061.6230 - root_mean_squared_error: 138.0638 - val_loss: 24386.7812 - val_root_mean_squared_error: 156.1627\n",
      "Epoch 89/1000\n",
      "28/28 [==============================] - 7s 241ms/step - loss: 18161.8555 - root_mean_squared_error: 134.7659 - val_loss: 25111.9688 - val_root_mean_squared_error: 158.4676\n",
      "Epoch 90/1000\n",
      "28/28 [==============================] - 7s 241ms/step - loss: 18950.3164 - root_mean_squared_error: 137.6601 - val_loss: 27514.5625 - val_root_mean_squared_error: 165.8752\n",
      "Epoch 91/1000\n",
      "28/28 [==============================] - 7s 240ms/step - loss: 20328.2031 - root_mean_squared_error: 142.5770 - val_loss: 24960.2324 - val_root_mean_squared_error: 157.9881\n",
      "Epoch 92/1000\n",
      "28/28 [==============================] - 7s 241ms/step - loss: 19029.1152 - root_mean_squared_error: 137.9460 - val_loss: 25396.3789 - val_root_mean_squared_error: 159.3624\n",
      "Epoch 93/1000\n",
      "28/28 [==============================] - 7s 241ms/step - loss: 18508.0391 - root_mean_squared_error: 136.0443 - val_loss: 23702.1758 - val_root_mean_squared_error: 153.9551\n",
      "Epoch 94/1000\n",
      "28/28 [==============================] - 7s 241ms/step - loss: 18206.7129 - root_mean_squared_error: 134.9323 - val_loss: 24016.0469 - val_root_mean_squared_error: 154.9711\n",
      "Epoch 95/1000\n",
      "28/28 [==============================] - 7s 241ms/step - loss: 17902.4336 - root_mean_squared_error: 133.8000 - val_loss: 23955.8633 - val_root_mean_squared_error: 154.7768\n",
      "Epoch 96/1000\n",
      "28/28 [==============================] - 7s 241ms/step - loss: 17984.0273 - root_mean_squared_error: 134.1046 - val_loss: 24450.0039 - val_root_mean_squared_error: 156.3650\n",
      "Epoch 97/1000\n",
      "28/28 [==============================] - 7s 241ms/step - loss: 18711.4707 - root_mean_squared_error: 136.7899 - val_loss: 24177.3477 - val_root_mean_squared_error: 155.4907\n",
      "Epoch 98/1000\n",
      "28/28 [==============================] - 7s 241ms/step - loss: 18440.9062 - root_mean_squared_error: 135.7973 - val_loss: 24148.1191 - val_root_mean_squared_error: 155.3967\n",
      "Epoch 99/1000\n",
      "28/28 [==============================] - 7s 241ms/step - loss: 18255.1250 - root_mean_squared_error: 135.1115 - val_loss: 24033.9766 - val_root_mean_squared_error: 155.0290\n",
      "Epoch 100/1000\n",
      "28/28 [==============================] - 7s 241ms/step - loss: 18383.1973 - root_mean_squared_error: 135.5846 - val_loss: 23749.3965 - val_root_mean_squared_error: 154.1084\n",
      "Epoch 101/1000\n",
      "28/28 [==============================] - 7s 241ms/step - loss: 18850.3203 - root_mean_squared_error: 137.2965 - val_loss: 25979.4453 - val_root_mean_squared_error: 161.1814\n",
      "Epoch 102/1000\n",
      "28/28 [==============================] - 7s 241ms/step - loss: 18824.6777 - root_mean_squared_error: 137.2030 - val_loss: 24316.4258 - val_root_mean_squared_error: 155.9373\n",
      "Epoch 103/1000\n",
      "28/28 [==============================] - 7s 241ms/step - loss: 18831.0586 - root_mean_squared_error: 137.2263 - val_loss: 27451.7656 - val_root_mean_squared_error: 165.6857\n",
      "Epoch 104/1000\n",
      "28/28 [==============================] - 7s 241ms/step - loss: 19302.9902 - root_mean_squared_error: 138.9352 - val_loss: 25586.4023 - val_root_mean_squared_error: 159.9575\n",
      "Epoch 105/1000\n",
      "28/28 [==============================] - 7s 241ms/step - loss: 18183.6035 - root_mean_squared_error: 134.8466 - val_loss: 24700.4746 - val_root_mean_squared_error: 157.1638\n",
      "Epoch 106/1000\n",
      "28/28 [==============================] - 7s 241ms/step - loss: 17928.2051 - root_mean_squared_error: 133.8963 - val_loss: 24349.1543 - val_root_mean_squared_error: 156.0422\n",
      "Epoch 107/1000\n",
      "28/28 [==============================] - 7s 241ms/step - loss: 18362.1270 - root_mean_squared_error: 135.5069 - val_loss: 26095.8164 - val_root_mean_squared_error: 161.5420\n",
      "Epoch 108/1000\n",
      "28/28 [==============================] - 7s 241ms/step - loss: 18619.9336 - root_mean_squared_error: 136.4549 - val_loss: 24902.9648 - val_root_mean_squared_error: 157.8067\n",
      "Epoch 109/1000\n",
      "28/28 [==============================] - 7s 241ms/step - loss: 17623.4805 - root_mean_squared_error: 132.7534 - val_loss: 24005.3008 - val_root_mean_squared_error: 154.9364\n",
      "Epoch 110/1000\n",
      "28/28 [==============================] - 7s 241ms/step - loss: 18411.7969 - root_mean_squared_error: 135.6901 - val_loss: 24554.3887 - val_root_mean_squared_error: 156.6984\n",
      "Epoch 111/1000\n",
      "28/28 [==============================] - 7s 241ms/step - loss: 19316.7871 - root_mean_squared_error: 138.9849 - val_loss: 24450.0742 - val_root_mean_squared_error: 156.3652\n",
      "Epoch 112/1000\n",
      "28/28 [==============================] - 7s 241ms/step - loss: 18164.9434 - root_mean_squared_error: 134.7774 - val_loss: 25906.0098 - val_root_mean_squared_error: 160.9534\n",
      "Epoch 113/1000\n",
      "28/28 [==============================] - 7s 241ms/step - loss: 19054.2109 - root_mean_squared_error: 138.0370 - val_loss: 24407.0078 - val_root_mean_squared_error: 156.2274\n",
      "Epoch 114/1000\n",
      "28/28 [==============================] - 7s 241ms/step - loss: 18185.3262 - root_mean_squared_error: 134.8530 - val_loss: 26369.0840 - val_root_mean_squared_error: 162.3856\n",
      "Epoch 115/1000\n",
      "28/28 [==============================] - 7s 241ms/step - loss: 17942.9688 - root_mean_squared_error: 133.9514 - val_loss: 23809.1328 - val_root_mean_squared_error: 154.3021\n",
      "Epoch 116/1000\n",
      "28/28 [==============================] - 7s 242ms/step - loss: 18017.6875 - root_mean_squared_error: 134.2300 - val_loss: 24869.0117 - val_root_mean_squared_error: 157.6991\n",
      "Epoch 117/1000\n",
      "28/28 [==============================] - 7s 241ms/step - loss: 18204.2090 - root_mean_squared_error: 134.9230 - val_loss: 24505.3633 - val_root_mean_squared_error: 156.5419\n",
      "Epoch 118/1000\n",
      "28/28 [==============================] - 7s 242ms/step - loss: 18741.1348 - root_mean_squared_error: 136.8983 - val_loss: 25114.3887 - val_root_mean_squared_error: 158.4752\n",
      "Epoch 119/1000\n",
      "28/28 [==============================] - 7s 241ms/step - loss: 18926.8750 - root_mean_squared_error: 137.5750 - val_loss: 27556.3809 - val_root_mean_squared_error: 166.0011\n",
      "Epoch 120/1000\n",
      "28/28 [==============================] - 7s 242ms/step - loss: 17751.5332 - root_mean_squared_error: 133.2349 - val_loss: 24483.8301 - val_root_mean_squared_error: 156.4731\n",
      "Epoch 121/1000\n",
      "28/28 [==============================] - 7s 241ms/step - loss: 17524.6250 - root_mean_squared_error: 132.3806 - val_loss: 24526.3066 - val_root_mean_squared_error: 156.6088\n",
      "Epoch 122/1000\n",
      "28/28 [==============================] - 7s 242ms/step - loss: 17934.9492 - root_mean_squared_error: 133.9214 - val_loss: 24149.1289 - val_root_mean_squared_error: 155.3999\n",
      "Epoch 123/1000\n",
      "28/28 [==============================] - 7s 242ms/step - loss: 17742.2402 - root_mean_squared_error: 133.2000 - val_loss: 25551.8633 - val_root_mean_squared_error: 159.8495\n",
      "Epoch 124/1000\n",
      "28/28 [==============================] - 7s 242ms/step - loss: 18217.6250 - root_mean_squared_error: 134.9727 - val_loss: 25070.1094 - val_root_mean_squared_error: 158.3354\n",
      "Epoch 125/1000\n",
      "28/28 [==============================] - 7s 241ms/step - loss: 17739.7402 - root_mean_squared_error: 133.1906 - val_loss: 25672.7402 - val_root_mean_squared_error: 160.2272\n",
      "Epoch 126/1000\n",
      "28/28 [==============================] - 7s 242ms/step - loss: 18266.4004 - root_mean_squared_error: 135.1533 - val_loss: 25822.5762 - val_root_mean_squared_error: 160.6940\n",
      "Epoch 127/1000\n",
      "28/28 [==============================] - 7s 242ms/step - loss: 18889.7598 - root_mean_squared_error: 137.4400 - val_loss: 24837.7676 - val_root_mean_squared_error: 157.6000\n",
      "Epoch 128/1000\n",
      "28/28 [==============================] - 7s 241ms/step - loss: 17859.6777 - root_mean_squared_error: 133.6401 - val_loss: 26131.4512 - val_root_mean_squared_error: 161.6523\n",
      "Epoch 129/1000\n",
      "22/28 [======================>.......] - ETA: 1s - loss: 19860.6348 - root_mean_squared_error: 140.9278"
     ]
    }
   ],
   "source": [
    "# checkpoint_path = \"training_1/cp.ckpt\"\n",
    "# checkpoint_dir = os.path.dirname(checkpoint_path)\n",
    "\n",
    "# # Create a callback that saves the model's weights\n",
    "# cp_callback = tf.keras.callbacks.ModelCheckpoint(filepath=checkpoint_path,\n",
    "#                                                  save_weights_only=True,\n",
    "#                                                  verbose=1)\n",
    "\n",
    "history = model.fit(x = [trainInput1,trainInput2],\n",
    "                     y= trainOutput,batch_size=5,epochs=1000,\n",
    "                     validation_data=([valInput1,valInput2],valOutput),\n",
    "                     validation_batch_size=5)\n",
    "\n"
   ]
  },
  {
   "cell_type": "code",
   "execution_count": null,
   "metadata": {
    "colab": {
     "base_uri": "https://localhost:8080/",
     "height": 369
    },
    "id": "1pRoC_zuU5O2",
    "outputId": "5b007aec-05b8-487d-a95e-515ecf48c6d1"
   },
   "outputs": [],
   "source": [
    "plt.figure(figsize=(10,5))\n",
    "plt.subplot(121)\n",
    "plt.plot(history.history['root_mean_squared_error'])\n",
    "plt.plot(history.history['val_root_mean_squared_error'])\n",
    "plt.legend(['Train', 'Validation'])\n",
    "plt.xlabel('No of Epochs')\n",
    "plt.ylabel('RMSE')\n",
    "\n",
    "plt.subplot(122)\n",
    "plt.plot(history.history['loss'])\n",
    "plt.plot(history.history['val_loss'])\n",
    "plt.legend(['Train', 'Validation'])\n",
    "plt.xlabel('No of Epochs')\n",
    "plt.ylabel('Loss')\n",
    "plt.tight_layout()"
   ]
  },
  {
   "cell_type": "code",
   "execution_count": null,
   "metadata": {
    "colab": {
     "base_uri": "https://localhost:8080/"
    },
    "id": "poTsRjvL5HYH",
    "outputId": "a0629083-504f-4fe6-ed24-b08af914555c"
   },
   "outputs": [],
   "source": []
  },
  {
   "cell_type": "code",
   "execution_count": null,
   "metadata": {
    "colab": {
     "base_uri": "https://localhost:8080/"
    },
    "id": "WI-jfzVR6dCX",
    "outputId": "d6bc1d0f-bcb2-4ee5-a457-a4e6b226d40f"
   },
   "outputs": [],
   "source": [
    "testInput1.shape"
   ]
  },
  {
   "cell_type": "code",
   "execution_count": null,
   "metadata": {
    "id": "Q4I06Jkn5kTB"
   },
   "outputs": [],
   "source": [
    "testPredicted = model.predict(x=[testInput1,testInput2],batch_size=5)"
   ]
  },
  {
   "cell_type": "code",
   "execution_count": null,
   "metadata": {
    "colab": {
     "base_uri": "https://localhost:8080/"
    },
    "id": "pBEqXukU7yQ1",
    "outputId": "718fbc88-928c-4471-93d8-18689622885c"
   },
   "outputs": [],
   "source": [
    "testPredicted.shape"
   ]
  },
  {
   "cell_type": "code",
   "execution_count": null,
   "metadata": {
    "id": "19hNgq1K97qT"
   },
   "outputs": [],
   "source": [
    "nSamples = 200\n",
    "trainSamples = int( 0.7*nSamples)\n",
    "testSamples = int(0.1*nSamples)\n",
    "valSamples = int(0.2*nSamples)\n",
    "refinement = 0.8\n",
    "lenGrid = 200"
   ]
  },
  {
   "cell_type": "code",
   "execution_count": null,
   "metadata": {
    "id": "dbr4t7onBLaq"
   },
   "outputs": [],
   "source": [
    "maskedIndexFile = open('maskedIndexTotal_suffled.pkl', 'rb')\n",
    "maskedIndexTotal = pickle.load(maskedIndexFile)\n",
    "maskedIndexFile.close()\n",
    "\n"
   ]
  },
  {
   "cell_type": "code",
   "execution_count": null,
   "metadata": {
    "colab": {
     "base_uri": "https://localhost:8080/",
     "height": 1000
    },
    "id": "l3PnLLrT7Cf0",
    "outputId": "e4bdf5f6-af39-4c97-c1f7-12b2547e5113"
   },
   "outputs": [],
   "source": [
    "x = np.arange(0, lenGrid, refinement)\n",
    "y = np.arange(0, lenGrid, refinement)\n",
    "\n",
    "x, y = np.meshgrid(x, y)\n",
    "\n",
    "for i in range(0, testPredicted.shape[0]):\n",
    "\n",
    "  zPredict= testPredicted[i][:][:][:]\n",
    "\n",
    "\n",
    "  zPredict = np.squeeze(zPredict, axis=2)\n",
    "\n",
    "  maskedIndex = maskedIndexTotal[valSamples+trainSamples+i]\n",
    "\n",
    "  zActual = testOutput[i][:][:]\n",
    "\n",
    "  zPredict[maskedIndex[0][:], maskedIndex[1][:]] = np.nan\n",
    "  zActual[maskedIndex[0][:], maskedIndex[1][:]] = np.nan\n",
    "\n",
    "  plt.figure(figsize=(10,5))\n",
    "  plt.subplot(121)\n",
    "  plt.contourf(x, y, zPredict , cmap='rainbow')\n",
    "  plt.title('Predicted Stress')\n",
    "  plt.colorbar()\n",
    "  plt.subplot(122)\n",
    "  plt.contourf(x,y,zActual,  cmap='rainbow')\n",
    "  plt.title('Actual Stress')\n",
    "  plt.colorbar()\n",
    "\n",
    "plt.tight_layout()"
   ]
  },
  {
   "cell_type": "code",
   "execution_count": null,
   "metadata": {
    "id": "8aB7jns2VykG"
   },
   "outputs": [],
   "source": [
    "model.save('Stress_Auotencoder_CNN')"
   ]
  }
 ],
 "metadata": {
  "accelerator": "GPU",
  "colab": {
   "collapsed_sections": [],
   "machine_shape": "hm",
   "name": "StressNet_AutoEncoder_CNN.ipynb",
   "provenance": []
  },
  "kernelspec": {
   "display_name": "Python 3",
   "language": "python",
   "name": "python3"
  },
  "language_info": {
   "codemirror_mode": {
    "name": "ipython",
    "version": 3
   },
   "file_extension": ".py",
   "mimetype": "text/x-python",
   "name": "python",
   "nbconvert_exporter": "python",
   "pygments_lexer": "ipython3",
   "version": "3.8.1"
  }
 },
 "nbformat": 4,
 "nbformat_minor": 1
}
